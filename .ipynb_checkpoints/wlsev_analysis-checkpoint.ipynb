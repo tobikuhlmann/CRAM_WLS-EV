{
 "cells": [
  {
   "cell_type": "markdown",
   "metadata": {},
   "source": [
    "# WLS-EV Analysis"
   ]
  },
  {
   "cell_type": "code",
   "execution_count": 1,
   "metadata": {},
   "outputs": [
    {
     "name": "stderr",
     "output_type": "stream",
     "text": [
      "/Users/tobias/anaconda3/lib/python3.6/site-packages/statsmodels/compat/pandas.py:56: FutureWarning: The pandas.core.datetools module is deprecated and will be removed in a future version. Please use the pandas.tseries module instead.\n",
      "  from pandas.core import datetools\n"
     ]
    }
   ],
   "source": [
    "\"\"\"\n",
    "KIT CRAM Seminar WS17/18\n",
    "Algorithmic Design - Least squares estimates weighted by ex-ante return variance (WLS-EV)\n",
    "\"\"\"\n",
    "\n",
    "__author__ = 'Tobias Kuhlmann'\n",
    "\n",
    "# Import own libraries\n",
    "from variance_estimation import ExAnteVariance\n",
    "from wlsev_model import Wlsev_model\n",
    "from ols_model import OLS_model\n",
    "import visualisation\n",
    "from simon_ols_model import OLS\n",
    "# import general packages\n",
    "import numpy as np\n",
    "import pandas as pd\n",
    "from functools import reduce\n",
    "import matplotlib\n",
    "matplotlib.use\n",
    "import matplotlib.pyplot as plt\n",
    "matplotlib.style.use('ggplot')\n",
    "%matplotlib inline\n"
   ]
  },
  {
   "cell_type": "markdown",
   "metadata": {},
   "source": [
    "## Data Preprocessing"
   ]
  },
  {
   "cell_type": "markdown",
   "metadata": {},
   "source": [
    "### Read in log return data and variance"
   ]
  },
  {
   "cell_type": "markdown",
   "metadata": {},
   "source": [
    "### Log returns"
   ]
  },
  {
   "cell_type": "code",
   "execution_count": 2,
   "metadata": {},
   "outputs": [],
   "source": [
    "# Import price data and calc log returns\n",
    "# --------------------------------------------------\n",
    "es_50_prices = pd.read_csv('data/eurostoxx50_prices_eod.csv', parse_dates=True)\n",
    "# set index, rename and check\n",
    "es_50_prices['loctimestamp'] =pd.to_datetime(es_50_prices['loctimestamp'])\n",
    "es_50_prices = es_50_prices.rename(columns={'loctimestamp': 'date'})\n",
    "es_50_prices = es_50_prices.set_index('date')\n",
    "\n",
    "#Log Returns\n",
    "es_50_logret = es_50_prices\n",
    "es_50_logret['logreturns'] = (np.log(es_50_prices['lastprice'] / es_50_prices['lastprice'].shift(1))).dropna()\n",
    "\n",
    "del es_50_logret['lastprice']"
   ]
  },
  {
   "cell_type": "markdown",
   "metadata": {},
   "source": [
    "### Volatility data"
   ]
  },
  {
   "cell_type": "code",
   "execution_count": 3,
   "metadata": {},
   "outputs": [],
   "source": [
    "# Import vol data\n",
    "# --------------------------------------------------\n",
    "es_50_vol = pd.read_csv('data/es50_volatility.csv', parse_dates=True)\n",
    "# Transform dates\n",
    "es_50_vol['loctimestamp'] = pd.to_datetime(es_50_vol['loctimestamp'])\n",
    "# Delete unnecessary columns\n",
    "del es_50_vol['instrumentid']\n",
    "# Calculate variance from vol\n",
    "es_50_vol['variance'] = es_50_vol['volatility'] ** 2\n",
    "del es_50_vol['volatility']\n",
    "# set index, rename and check\n",
    "es_50_vol = es_50_vol.rename(columns={'loctimestamp': 'date'})\n",
    "es_50_vol = es_50_vol.set_index('date')"
   ]
  },
  {
   "cell_type": "markdown",
   "metadata": {},
   "source": [
    "### Implied volatility data "
   ]
  },
  {
   "cell_type": "code",
   "execution_count": 4,
   "metadata": {},
   "outputs": [],
   "source": [
    "# Import implied volatility\n",
    "# --------------------------------------------------\n",
    "es_50_imp_vol = pd.read_csv('data/es50_implied_volatility.csv', parse_dates=True)\n",
    "# Transform dates\n",
    "es_50_imp_vol['loctimestamp'] = pd.to_datetime(es_50_imp_vol['loctimestamp'])\n",
    "# Delete unnecessary columns\n",
    "del es_50_imp_vol['instrumentid']\n",
    "del es_50_imp_vol['maturity']\n",
    "# Calculate implied variance from implied vol\n",
    "es_50_imp_vol['implied_var'] = es_50_imp_vol['measure'] ** 2\n",
    "del es_50_imp_vol['measure']\n",
    "# set index, rename and check\n",
    "es_50_imp_vol = es_50_imp_vol.rename(columns={'loctimestamp': 'date'})\n",
    "es_50_imp_vol = es_50_imp_vol.set_index('date')"
   ]
  },
  {
   "cell_type": "markdown",
   "metadata": {},
   "source": [
    "### Riskfree rate"
   ]
  },
  {
   "cell_type": "code",
   "execution_count": 5,
   "metadata": {},
   "outputs": [],
   "source": [
    "# Import riskfree rate data\n",
    "# --------------------------------------------------\n",
    "rf = pd.read_csv('data/riskfree_rate.csv', parse_dates=True, sep=';')\n",
    "# Transform dates\n",
    "rf['loctimestamp'] = pd.to_datetime(rf['loctimestamp'])\n",
    "# set index, rename and check\n",
    "rf = rf.rename(columns={'loctimestamp': 'date'})\n",
    "rf = rf.set_index('date')"
   ]
  },
  {
   "cell_type": "markdown",
   "metadata": {},
   "source": [
    "### VRP data"
   ]
  },
  {
   "cell_type": "code",
   "execution_count": 6,
   "metadata": {},
   "outputs": [],
   "source": [
    "# Import VRP data\n",
    "# --------------------------------------------------\n",
    "es_50_vrp = pd.read_csv('data/es50_vrp.csv', parse_dates=True)\n",
    "# Transform dates\n",
    "es_50_vrp['loctimestamp'] = pd.to_datetime(es_50_vrp['loctimestamp'])\n",
    "# set index, rename and check\n",
    "es_50_vrp = es_50_vrp.rename(columns={'loctimestamp': 'date'})\n",
    "es_50_vrp = es_50_vrp.set_index('date')"
   ]
  },
  {
   "cell_type": "markdown",
   "metadata": {},
   "source": [
    "### ERP data"
   ]
  },
  {
   "cell_type": "code",
   "execution_count": 7,
   "metadata": {},
   "outputs": [],
   "source": [
    "# Calculate ERP from logrets and riskfree rate\n",
    "# Take risk free rate maturity 7 (smallest maturity)\n",
    "rf_mat7 = rf[rf['daystomaturity'] == 7]\n",
    "# Calculate ERP = logrets - rf\n",
    "es_50_erp = pd.DataFrame({'erp': (es_50_logret['logreturns'] - rf_mat7['riskfree']).dropna()})"
   ]
  },
  {
   "cell_type": "markdown",
   "metadata": {},
   "source": [
    "### Q-Moments data"
   ]
  },
  {
   "cell_type": "code",
   "execution_count": 8,
   "metadata": {},
   "outputs": [
    {
     "data": {
      "text/plain": [
       "array([<matplotlib.axes._subplots.AxesSubplot object at 0x111acda20>,\n",
       "       <matplotlib.axes._subplots.AxesSubplot object at 0x1111bbbe0>,\n",
       "       <matplotlib.axes._subplots.AxesSubplot object at 0x1111f6ba8>], dtype=object)"
      ]
     },
     "execution_count": 8,
     "metadata": {},
     "output_type": "execute_result"
    },
    {
     "data": {
      "image/png": "[encoded data removed]",
      "text/plain": [
       "<matplotlib.figure.Figure at 0x10f9014a8>"
      ]
     },
     "metadata": {},
     "output_type": "display_data"
    }
   ],
   "source": [
    "# Import Q-Moments data\n",
    "# --------------------------------------------------\n",
    "es_50_q = pd.read_csv('data/FiglewskiStandardizationEOD_DE0009652396D1_Qmoments.csv', parse_dates=True, sep = ';')\n",
    "es_50_q.head(5)\n",
    "# Transform dates\n",
    "es_50_q['loctimestamp'] = pd.to_datetime(es_50_q['loctimestamp'])\n",
    "# set index, rename and check\n",
    "es_50_q = es_50_q.rename(columns={'loctimestamp': 'date'})\n",
    "es_50_q = es_50_q.set_index('date')\n",
    "\n",
    "# Delete unnecessary columns\n",
    "del es_50_q['underlyingprice']\n",
    "del es_50_q['underlyingforwardprice']\n",
    "del es_50_q['Q_cubic']\n",
    "del es_50_q['Q_quartic']\n",
    "\n",
    "# Split maturities into seperate columns\n",
    "es_50_q_7 = es_50_q[es_50_q['daystomaturity'] == 7]\n",
    "es_50_q_7 = es_50_q_7.rename(columns={'Q_variance': 'Q_variance_7', 'Q_skewness': 'Q_skewness_7', 'Q_kurtosis': 'Q_kurtotis_7'})\n",
    "del es_50_q_7['daystomaturity']\n",
    "\n",
    "es_50_q_30 = es_50_q[es_50_q['daystomaturity'] == 30]\n",
    "es_50_q_30 = es_50_q_30.rename(columns={'Q_variance': 'Q_variance_30', 'Q_skewness': 'Q_skewness_30', 'Q_kurtosis': 'Q_kurtotis_30'})\n",
    "del es_50_q_30['daystomaturity']\n",
    "\n",
    "es_50_q_60 = es_50_q[es_50_q['daystomaturity'] == 60]\n",
    "es_50_q_60 = es_50_q_60.rename(columns={'Q_variance': 'Q_variance_60', 'Q_skewness': 'Q_skewness_60', 'Q_kurtosis': 'Q_kurtotis_60'})\n",
    "del es_50_q_60['daystomaturity']\n",
    "\n",
    "es_50_q_91 = es_50_q[es_50_q['daystomaturity'] == 91]\n",
    "es_50_q_91 = es_50_q_91.rename(columns={'Q_variance': 'Q_variance_91', 'Q_skewness': 'Q_skewness_91', 'Q_kurtosis': 'Q_kurtotis_91'})\n",
    "del es_50_q_91['daystomaturity']\n",
    "\n",
    "es_50_q_182 = es_50_q[es_50_q['daystomaturity'] == 182]\n",
    "es_50_q_182 = es_50_q_182.rename(columns={'Q_variance': 'Q_variance_182', 'Q_skewness': 'Q_skewness_182', 'Q_kurtosis': 'Q_kurtotis_182'})\n",
    "del es_50_q_182['daystomaturity']\n",
    "\n",
    "es_50_q_365 = es_50_q[es_50_q['daystomaturity'] == 365]\n",
    "es_50_q_365 = es_50_q_365.rename(columns={'Q_variance': 'Q_variance_365', 'Q_skewness': 'Q_skewness_365', 'Q_kurtosis': 'Q_kurtotis_365'})\n",
    "del es_50_q_365['daystomaturity']\n",
    "\n",
    "es_50_q_7.plot(subplots = True)"
   ]
  },
  {
   "cell_type": "markdown",
   "metadata": {},
   "source": [
    "### P-Moments data"
   ]
  },
  {
   "cell_type": "code",
   "execution_count": 9,
   "metadata": {
    "scrolled": false
   },
   "outputs": [
    {
     "name": "stderr",
     "output_type": "stream",
     "text": [
      "/Users/tobias/anaconda3/lib/python3.6/site-packages/ipykernel_launcher.py:18: SettingWithCopyWarning: \n",
      "A value is trying to be set on a copy of a slice from a DataFrame.\n",
      "Try using .loc[row_indexer,col_indexer] = value instead\n",
      "\n",
      "See the caveats in the documentation: http://pandas.pydata.org/pandas-docs/stable/indexing.html#indexing-view-versus-copy\n",
      "/Users/tobias/anaconda3/lib/python3.6/site-packages/ipykernel_launcher.py:19: SettingWithCopyWarning: \n",
      "A value is trying to be set on a copy of a slice from a DataFrame.\n",
      "Try using .loc[row_indexer,col_indexer] = value instead\n",
      "\n",
      "See the caveats in the documentation: http://pandas.pydata.org/pandas-docs/stable/indexing.html#indexing-view-versus-copy\n",
      "/Users/tobias/anaconda3/lib/python3.6/site-packages/ipykernel_launcher.py:20: SettingWithCopyWarning: \n",
      "A value is trying to be set on a copy of a slice from a DataFrame.\n",
      "Try using .loc[row_indexer,col_indexer] = value instead\n",
      "\n",
      "See the caveats in the documentation: http://pandas.pydata.org/pandas-docs/stable/indexing.html#indexing-view-versus-copy\n"
     ]
    }
   ],
   "source": [
    "# Import 5 min price data and calc log returns\n",
    "# --------------------------------------------------\n",
    "es_50_prices_5 = pd.read_csv('data/eurostoxx50_prices_5m.csv', parse_dates=True, sep=';')\n",
    "# set index, rename and check\n",
    "es_50_prices_5 = es_50_prices_5.rename(columns={'loctimestamp': 'date'})\n",
    "es_50_prices_5['date'] = pd.to_datetime(es_50_prices_5['date'], errors='coerce')\n",
    "es_50_prices_5 = es_50_prices_5.set_index('date')\n",
    "\n",
    "#Log Returns\n",
    "es_50_logret_5 = es_50_prices_5\n",
    "es_50_logret_5['logreturns5min'] = np.log(es_50_prices_5['price'] / es_50_prices_5['price'].shift(1))\n",
    "es_50_logret_5 = es_50_logret_5.dropna()\n",
    "\n",
    "# Count of values per day\n",
    "N = (es_50_logret_5.loc[(es_50_logret_5.index >= '2004-07-04 00:00:00') & (es_50_logret_5.index <= '2004-07-06 00:00:00')]).shape[0]\n",
    "\n",
    "# Calculate moments after Amaya, Christoffersen, Jacobs, Vasquez (2015) - Does realized skewness predict equity returns\n",
    "es_50_logret_5['logreturns_pow2'] = es_50_logret_5['logreturns5min'] ** 2\n",
    "es_50_logret_5['logreturns_pow3'] = es_50_logret_5['logreturns5min'] ** 3\n",
    "es_50_logret_5['logreturns_pow4'] = es_50_logret_5['logreturns5min'] ** 4\n",
    "\n",
    "# group by date and sum up\n",
    "helper = es_50_logret_5.groupby(es_50_logret_5.index.date).sum()\n",
    "\n",
    "# Var 1 day = sum of intraday squared returns\n",
    "es_50_P_1 = pd.DataFrame({'var1': helper['logreturns_pow2']})\n",
    "# Skewness 1 day\n",
    "es_50_P_1['skewness1'] = ( np.sqrt(N) * helper['logreturns_pow3']) / (es_50_P_1['var1'] ** (3 / 2) )\n",
    "# Kurtosis 1 day\n",
    "es_50_P_1['kurtosis1'] = N * helper['logreturns_pow4'] / (es_50_P_1['var1'] ** 2)\n",
    "\n",
    "# Var 7 days ahead = sum of intraday squared returns\n",
    "es_50_P_7 = pd.DataFrame({'var7': helper['logreturns_pow2'].rolling(7).sum().shift(-6)})\n",
    "# Skewness 7 days\n",
    "es_50_P_7['skewness7'] = (np.sqrt(N * 7) * helper['logreturns_pow3'].rolling(7).sum().shift(-6)) / (es_50_P_7['var7'] ** (3 / 2) )\n",
    "# Kurtosis 7 days\n",
    "es_50_P_7['kurtosis7'] = (N* 7 * helper['logreturns_pow4'].rolling(7).sum().shift(-6)) / (es_50_P_7['var7'] ** 2)\n",
    "\n",
    "# Var 30 days ahead = sum of intraday squared returns\n",
    "es_50_P_30 = pd.DataFrame({'var30': helper['logreturns_pow2'].rolling(30).sum().shift(-29)})\n",
    "# Skewness 7 days\n",
    "es_50_P_30['skewness30'] = (np.sqrt(N * 30) * helper['logreturns_pow3'].rolling(30).sum().shift(-29)) / (es_50_P_30['var30'] ** (3 / 2) )\n",
    "# Kurtosis 7 days\n",
    "es_50_P_30['kurtosis30'] = (N * 30 * helper['logreturns_pow4'].rolling(30).sum().shift(-29)) / (es_50_P_30['var30'] ** 2)\n",
    "\n",
    "# Var 60 days ahead = sum of intraday squared returns\n",
    "es_50_P_60 = pd.DataFrame({'var60': helper['logreturns_pow2'].rolling(60).sum().shift(-59)})\n",
    "# Skewness 7 days\n",
    "es_50_P_60['skewness60'] = (np.sqrt(N * 60) * helper['logreturns_pow3'].rolling(60).sum().shift(-59)) / (es_50_P_60['var60'] ** (3 / 2) )\n",
    "# Kurtosis 7 days\n",
    "es_50_P_60['kurtosis60'] = (N * 60 * helper['logreturns_pow4'].rolling(60).sum().shift(-59)) / (es_50_P_60['var60'] ** 2)\n",
    "\n",
    "# Var 91 days ahead = sum of intraday squared returns\n",
    "es_50_P_91 = pd.DataFrame({'var91': helper['logreturns_pow2'].rolling(91).sum().shift(-90)})\n",
    "# Skewness 7 days\n",
    "es_50_P_91['skewness91'] = (np.sqrt(N * 91) * helper['logreturns_pow3'].rolling(60).sum().shift(-90)) / (es_50_P_91['var91'] ** (3 / 2) )\n",
    "# Kurtosis 7 days\n",
    "es_50_P_91['kurtosis91'] = (N * 91 * helper['logreturns_pow4'].rolling(91).sum().shift(-90)) / (es_50_P_91['var91'] ** 2)\n",
    "\n",
    "# Var 182 days ahead = sum of intraday squared returns\n",
    "es_50_P_182 = pd.DataFrame({'var182': helper['logreturns_pow2'].rolling(182).sum().shift(-181)})\n",
    "# Skewness 7 days\n",
    "es_50_P_182['skewness182'] = (np.sqrt(N * 182) * helper['logreturns_pow3'].rolling(182).sum().shift(-181)) / (es_50_P_182['var182'] ** (3 / 2) )\n",
    "# Kurtosis 7 days\n",
    "es_50_P_182['kurtosis182'] = (N * 182 * helper['logreturns_pow4'].rolling(182).sum().shift(-181)) / (es_50_P_182['var182'] ** 2)\n",
    "\n",
    "# Var 365 days ahead = sum of intraday squared returns\n",
    "es_50_P_365 = pd.DataFrame({'var365': helper['logreturns_pow2'].rolling(365).sum().shift(-364)})\n",
    "# Skewness 7 days\n",
    "es_50_P_365['skewness365'] = (np.sqrt(N * 365) * helper['logreturns_pow3'].rolling(365).sum().shift(-364)) / (es_50_P_365['var365'] ** (3 / 2) )\n",
    "# Kurtosis 7 days\n",
    "es_50_P_365['kurtosis365'] = (N * 365 * helper['logreturns_pow4'].rolling(365).sum().shift(-364)) / (es_50_P_365['var365'] ** 2)"
   ]
  },
  {
   "cell_type": "markdown",
   "metadata": {},
   "source": [
    "### Fama-French data"
   ]
  },
  {
   "cell_type": "code",
   "execution_count": 10,
   "metadata": {},
   "outputs": [],
   "source": [
    "# Import Fama French Factors\n",
    "# --------------------------------------------------\n",
    "# HML and SMB\n",
    "es_50_ff = pd.read_csv('data/FamaFrench_Europe_3_Factors_Daily.csv', parse_dates=True, skiprows=6)\n",
    "es_50_ff = es_50_ff.rename(columns={'Unnamed: 0': 'date'})\n",
    "es_50_ff['date'] = pd.to_datetime(es_50_ff['date'], format = '%Y%m%d')\n",
    "es_50_ff = es_50_ff.set_index('date')\n",
    "\n",
    "# Momentum Factor\n",
    "es_50_ff2 = pd.read_csv('data/FamaFrench_Europe_MOM_Factor_Daily.csv', parse_dates=True, skiprows=6)\n",
    "es_50_ff2 = es_50_ff2.rename(columns={'Unnamed: 0': 'date'})\n",
    "es_50_ff2['date'] = pd.to_datetime(es_50_ff2['date'], format = '%Y%m%d')\n",
    "es_50_ff2 = es_50_ff2.set_index('date')\n",
    "\n",
    "# Join and drop na's\n",
    "es_50_ff = es_50_ff.join(es_50_ff2).dropna()\n",
    "\n"
   ]
  },
  {
   "cell_type": "markdown",
   "metadata": {},
   "source": [
    "## Join data for correct dates"
   ]
  },
  {
   "cell_type": "code",
   "execution_count": 11,
   "metadata": {},
   "outputs": [
    {
     "name": "stdout",
     "output_type": "stream",
     "text": [
      "(0, 46)\n",
      "(1947, 28)\n",
      "(433, 36)\n",
      "Index(['logreturns', 'variance', 'implied_var', 'vrp', 'erp', 'Q_variance_7',\n",
      "       'Q_skewness_7', 'Q_kurtotis_7', 'Q_variance_30', 'Q_skewness_30',\n",
      "       'Q_kurtotis_30', 'Q_variance_60', 'Q_skewness_60', 'Q_kurtotis_60',\n",
      "       'Q_variance_91', 'Q_skewness_91', 'Q_kurtotis_91', 'Q_variance_182',\n",
      "       'Q_skewness_182', 'Q_kurtotis_182', 'Q_variance_365', 'Q_skewness_365',\n",
      "       'Q_kurtotis_365', 'Mkt-RF', 'SMB', 'HML', 'RF', 'WML'],\n",
      "      dtype='object')\n"
     ]
    }
   ],
   "source": [
    "# Join data\n",
    "data_all = pd.concat([es_50_logret, es_50_vol, es_50_imp_vol, es_50_vrp, es_50_erp, es_50_q_7, es_50_q_30, es_50_q_60, es_50_q_91, es_50_q_182, es_50_q_365, es_50_P_7, es_50_P_30, es_50_P_60, es_50_P_91, es_50_P_182, es_50_P_365, es_50_ff], join='inner', axis=1).dropna()\n",
    "data_wop = pd.concat([es_50_logret, es_50_vol, es_50_imp_vol, es_50_vrp, es_50_erp, es_50_q_7, es_50_q_30, es_50_q_60, es_50_q_91, es_50_q_182, es_50_q_365, es_50_ff], join='inner', axis=1).dropna()\n",
    "data_pq = pd.concat([es_50_q_7, es_50_q_30, es_50_q_60, es_50_q_91, es_50_q_182, es_50_q_365, es_50_P_7, es_50_P_30, es_50_P_60, es_50_P_91, es_50_P_182, es_50_P_365], join='inner', axis=1).dropna()\n",
    "\n",
    "#data_wop.plot(subplots=True)\n",
    "print(data_all.shape)\n",
    "print(data_wop.shape)\n",
    "print(data_pq.shape)\n",
    "\n",
    "print(data_wop.columns)"
   ]
  },
  {
   "cell_type": "markdown",
   "metadata": {},
   "source": [
    "# Model and Analysis"
   ]
  },
  {
   "cell_type": "markdown",
   "metadata": {},
   "source": [
    "## Estimate Ex ante Variance"
   ]
  },
  {
   "cell_type": "code",
   "execution_count": 12,
   "metadata": {
    "scrolled": true
   },
   "outputs": [
    {
     "name": "stdout",
     "output_type": "stream",
     "text": [
      "Variance Estimation Object initialized!\n",
      "Variance Estimation begins!\n",
      "Variance Estimation Results\n",
      "                            OLS Regression Results                            \n",
      "==============================================================================\n",
      "Dep. Variable:          var_daily_est   R-squared:                       0.467\n",
      "Model:                            OLS   Adj. R-squared:                  0.466\n",
      "Method:                 Least Squares   F-statistic:                     421.1\n",
      "Date:                Fri, 23 Feb 2018   Prob (F-statistic):          1.18e-260\n",
      "Time:                        15:30:35   Log-Likelihood:                 2080.6\n",
      "No. Observations:                1925   AIC:                            -4151.\n",
      "Df Residuals:                    1920   BIC:                            -4123.\n",
      "Df Model:                           4                                         \n",
      "Covariance Type:            nonrobust                                         \n",
      "===============================================================================\n",
      "                  coef    std err          t      P>|t|      [0.025      0.975]\n",
      "-------------------------------------------------------------------------------\n",
      "Intercept      -0.0150      0.003     -5.099      0.000      -0.021      -0.009\n",
      "var_daily      -0.0040      0.030     -0.135      0.893      -0.062       0.054\n",
      "implied_var     0.7732      0.059     13.121      0.000       0.658       0.889\n",
      "var_weekly      0.4574      0.045     10.124      0.000       0.369       0.546\n",
      "var_monthly    -0.2930      0.050     -5.875      0.000      -0.391      -0.195\n",
      "==============================================================================\n",
      "Omnibus:                     3018.848   Durbin-Watson:                   2.114\n",
      "Prob(Omnibus):                  0.000   Jarque-Bera (JB):          2738221.491\n",
      "Skew:                           9.465   Prob(JB):                         0.00\n",
      "Kurtosis:                     186.795   Cond. No.                         38.0\n",
      "==============================================================================\n",
      "\n",
      "Warnings:\n",
      "[1] Standard Errors assume that the covariance matrix of the errors is correctly specified.\n",
      "Variance estimated!\n"
     ]
    },
    {
     "data": {
      "image/png": "[encoded data removed]",
      "text/plain": [
       "<matplotlib.figure.Figure at 0x1148c6128>"
      ]
     },
     "metadata": {},
     "output_type": "display_data"
    }
   ],
   "source": [
    "# Model and Analysis\n",
    "# ==================================================\n",
    "#\n",
    "# 1. Estimate (sigma_t)2, the (ex ante) conditional variance of next-period unexpected returns epsilon_(t+1)\n",
    "# using a HAR-RV (Hierachical Autoregressive-Realized Variance) Model from Corsi (2009)\n",
    "# ------------------------------------------------------------------------------------------------------------\n",
    "# First, instantiate object\n",
    "# no implied vol\n",
    "ea_var_obj = ExAnteVariance(data_wop['variance'])\n",
    "# implied vol exists\n",
    "#ea_var_obj = ExAnteVariance(data_wop['variance'], data_wop['implied_var'])\n",
    "\n",
    "# Estimate Variance\n",
    "result = ea_var_obj.estimate_variance()\n",
    "result = result.dropna()\n",
    "\n",
    "# Join returns and estimated variance\n",
    "wlsev_var_rets = es_50_logret.join(result).dropna()\n",
    "\n"
   ]
  },
  {
   "cell_type": "markdown",
   "metadata": {},
   "source": [
    "## WLS-EV and benchmark estimations"
   ]
  },
  {
   "cell_type": "markdown",
   "metadata": {},
   "source": [
    "### Regress returns on returns"
   ]
  },
  {
   "cell_type": "markdown",
   "metadata": {},
   "source": [
    "##### Forecast horizon 1, 5 and 10"
   ]
  },
  {
   "cell_type": "code",
   "execution_count": 13,
   "metadata": {
    "scrolled": true
   },
   "outputs": [
    {
     "ename": "KeyError",
     "evalue": "'vol_daily_est'",
     "output_type": "error",
     "traceback": [
      "\u001b[0;31m---------------------------------------------------------------------------\u001b[0m",
      "\u001b[0;31mKeyError\u001b[0m                                  Traceback (most recent call last)",
      "\u001b[0;32m~/anaconda3/lib/python3.6/site-packages/pandas/core/indexes/base.py\u001b[0m in \u001b[0;36mget_loc\u001b[0;34m(self, key, method, tolerance)\u001b[0m\n\u001b[1;32m   2524\u001b[0m             \u001b[0;32mtry\u001b[0m\u001b[0;34m:\u001b[0m\u001b[0;34m\u001b[0m\u001b[0m\n\u001b[0;32m-> 2525\u001b[0;31m                 \u001b[0;32mreturn\u001b[0m \u001b[0mself\u001b[0m\u001b[0;34m.\u001b[0m\u001b[0m_engine\u001b[0m\u001b[0;34m.\u001b[0m\u001b[0mget_loc\u001b[0m\u001b[0;34m(\u001b[0m\u001b[0mkey\u001b[0m\u001b[0;34m)\u001b[0m\u001b[0;34m\u001b[0m\u001b[0m\n\u001b[0m\u001b[1;32m   2526\u001b[0m             \u001b[0;32mexcept\u001b[0m \u001b[0mKeyError\u001b[0m\u001b[0;34m:\u001b[0m\u001b[0;34m\u001b[0m\u001b[0m\n",
      "\u001b[0;32mpandas/_libs/index.pyx\u001b[0m in \u001b[0;36mpandas._libs.index.IndexEngine.get_loc\u001b[0;34m()\u001b[0m\n",
      "\u001b[0;32mpandas/_libs/index.pyx\u001b[0m in \u001b[0;36mpandas._libs.index.IndexEngine.get_loc\u001b[0;34m()\u001b[0m\n",
      "\u001b[0;32mpandas/_libs/hashtable_class_helper.pxi\u001b[0m in \u001b[0;36mpandas._libs.hashtable.PyObjectHashTable.get_item\u001b[0;34m()\u001b[0m\n",
      "\u001b[0;32mpandas/_libs/hashtable_class_helper.pxi\u001b[0m in \u001b[0;36mpandas._libs.hashtable.PyObjectHashTable.get_item\u001b[0;34m()\u001b[0m\n",
      "\u001b[0;31mKeyError\u001b[0m: 'vol_daily_est'",
      "\nDuring handling of the above exception, another exception occurred:\n",
      "\u001b[0;31mKeyError\u001b[0m                                  Traceback (most recent call last)",
      "\u001b[0;32m<ipython-input-13-905be6c83006>\u001b[0m in \u001b[0;36m<module>\u001b[0;34m()\u001b[0m\n\u001b[1;32m      7\u001b[0m \u001b[0;34m\u001b[0m\u001b[0m\n\u001b[1;32m      8\u001b[0m     \u001b[0;31m# WLS-EV\u001b[0m\u001b[0;34m\u001b[0m\u001b[0;34m\u001b[0m\u001b[0m\n\u001b[0;32m----> 9\u001b[0;31m     \u001b[0mwlsev_obj\u001b[0m \u001b[0;34m=\u001b[0m \u001b[0mWlsev_model\u001b[0m\u001b[0;34m(\u001b[0m\u001b[0mwlsev_var_rets\u001b[0m\u001b[0;34m[\u001b[0m\u001b[0;34m'logreturns'\u001b[0m\u001b[0;34m]\u001b[0m\u001b[0;34m[\u001b[0m\u001b[0;34m:\u001b[0m\u001b[0;34m-\u001b[0m\u001b[0;36m1\u001b[0m\u001b[0;34m]\u001b[0m\u001b[0;34m.\u001b[0m\u001b[0mas_matrix\u001b[0m\u001b[0;34m(\u001b[0m\u001b[0;34m)\u001b[0m\u001b[0;34m,\u001b[0m \u001b[0mwlsev_var_rets\u001b[0m\u001b[0;34m[\u001b[0m\u001b[0;34m'logreturns'\u001b[0m\u001b[0;34m]\u001b[0m\u001b[0;34m[\u001b[0m\u001b[0;36m1\u001b[0m\u001b[0;34m:\u001b[0m\u001b[0;34m]\u001b[0m\u001b[0;34m.\u001b[0m\u001b[0mas_matrix\u001b[0m\u001b[0;34m(\u001b[0m\u001b[0;34m)\u001b[0m\u001b[0;34m,\u001b[0m \u001b[0mwlsev_var_rets\u001b[0m\u001b[0;34m[\u001b[0m\u001b[0;34m'vol_daily_est'\u001b[0m\u001b[0;34m]\u001b[0m\u001b[0;34m[\u001b[0m\u001b[0;34m:\u001b[0m\u001b[0;34m-\u001b[0m\u001b[0;36m1\u001b[0m\u001b[0;34m]\u001b[0m\u001b[0;34m.\u001b[0m\u001b[0mas_matrix\u001b[0m\u001b[0;34m(\u001b[0m\u001b[0;34m)\u001b[0m\u001b[0;34m,\u001b[0m \u001b[0mforecast_horizon\u001b[0m\u001b[0;34m)\u001b[0m\u001b[0;34m\u001b[0m\u001b[0m\n\u001b[0m\u001b[1;32m     10\u001b[0m     \u001b[0mwlsev_obj\u001b[0m\u001b[0;34m.\u001b[0m\u001b[0mfit\u001b[0m\u001b[0;34m(\u001b[0m\u001b[0;34m)\u001b[0m\u001b[0;34m\u001b[0m\u001b[0m\n\u001b[1;32m     11\u001b[0m     \u001b[0;31m# OOS evaluation to get Rsquared\u001b[0m\u001b[0;34m\u001b[0m\u001b[0;34m\u001b[0m\u001b[0m\n",
      "\u001b[0;32m~/anaconda3/lib/python3.6/site-packages/pandas/core/frame.py\u001b[0m in \u001b[0;36m__getitem__\u001b[0;34m(self, key)\u001b[0m\n\u001b[1;32m   2137\u001b[0m             \u001b[0;32mreturn\u001b[0m \u001b[0mself\u001b[0m\u001b[0;34m.\u001b[0m\u001b[0m_getitem_multilevel\u001b[0m\u001b[0;34m(\u001b[0m\u001b[0mkey\u001b[0m\u001b[0;34m)\u001b[0m\u001b[0;34m\u001b[0m\u001b[0m\n\u001b[1;32m   2138\u001b[0m         \u001b[0;32melse\u001b[0m\u001b[0;34m:\u001b[0m\u001b[0;34m\u001b[0m\u001b[0m\n\u001b[0;32m-> 2139\u001b[0;31m             \u001b[0;32mreturn\u001b[0m \u001b[0mself\u001b[0m\u001b[0;34m.\u001b[0m\u001b[0m_getitem_column\u001b[0m\u001b[0;34m(\u001b[0m\u001b[0mkey\u001b[0m\u001b[0;34m)\u001b[0m\u001b[0;34m\u001b[0m\u001b[0m\n\u001b[0m\u001b[1;32m   2140\u001b[0m \u001b[0;34m\u001b[0m\u001b[0m\n\u001b[1;32m   2141\u001b[0m     \u001b[0;32mdef\u001b[0m \u001b[0m_getitem_column\u001b[0m\u001b[0;34m(\u001b[0m\u001b[0mself\u001b[0m\u001b[0;34m,\u001b[0m \u001b[0mkey\u001b[0m\u001b[0;34m)\u001b[0m\u001b[0;34m:\u001b[0m\u001b[0;34m\u001b[0m\u001b[0m\n",
      "\u001b[0;32m~/anaconda3/lib/python3.6/site-packages/pandas/core/frame.py\u001b[0m in \u001b[0;36m_getitem_column\u001b[0;34m(self, key)\u001b[0m\n\u001b[1;32m   2144\u001b[0m         \u001b[0;31m# get column\u001b[0m\u001b[0;34m\u001b[0m\u001b[0;34m\u001b[0m\u001b[0m\n\u001b[1;32m   2145\u001b[0m         \u001b[0;32mif\u001b[0m \u001b[0mself\u001b[0m\u001b[0;34m.\u001b[0m\u001b[0mcolumns\u001b[0m\u001b[0;34m.\u001b[0m\u001b[0mis_unique\u001b[0m\u001b[0;34m:\u001b[0m\u001b[0;34m\u001b[0m\u001b[0m\n\u001b[0;32m-> 2146\u001b[0;31m             \u001b[0;32mreturn\u001b[0m \u001b[0mself\u001b[0m\u001b[0;34m.\u001b[0m\u001b[0m_get_item_cache\u001b[0m\u001b[0;34m(\u001b[0m\u001b[0mkey\u001b[0m\u001b[0;34m)\u001b[0m\u001b[0;34m\u001b[0m\u001b[0m\n\u001b[0m\u001b[1;32m   2147\u001b[0m \u001b[0;34m\u001b[0m\u001b[0m\n\u001b[1;32m   2148\u001b[0m         \u001b[0;31m# duplicate columns & possible reduce dimensionality\u001b[0m\u001b[0;34m\u001b[0m\u001b[0;34m\u001b[0m\u001b[0m\n",
      "\u001b[0;32m~/anaconda3/lib/python3.6/site-packages/pandas/core/generic.py\u001b[0m in \u001b[0;36m_get_item_cache\u001b[0;34m(self, item)\u001b[0m\n\u001b[1;32m   1840\u001b[0m         \u001b[0mres\u001b[0m \u001b[0;34m=\u001b[0m \u001b[0mcache\u001b[0m\u001b[0;34m.\u001b[0m\u001b[0mget\u001b[0m\u001b[0;34m(\u001b[0m\u001b[0mitem\u001b[0m\u001b[0;34m)\u001b[0m\u001b[0;34m\u001b[0m\u001b[0m\n\u001b[1;32m   1841\u001b[0m         \u001b[0;32mif\u001b[0m \u001b[0mres\u001b[0m \u001b[0;32mis\u001b[0m \u001b[0;32mNone\u001b[0m\u001b[0;34m:\u001b[0m\u001b[0;34m\u001b[0m\u001b[0m\n\u001b[0;32m-> 1842\u001b[0;31m             \u001b[0mvalues\u001b[0m \u001b[0;34m=\u001b[0m \u001b[0mself\u001b[0m\u001b[0;34m.\u001b[0m\u001b[0m_data\u001b[0m\u001b[0;34m.\u001b[0m\u001b[0mget\u001b[0m\u001b[0;34m(\u001b[0m\u001b[0mitem\u001b[0m\u001b[0;34m)\u001b[0m\u001b[0;34m\u001b[0m\u001b[0m\n\u001b[0m\u001b[1;32m   1843\u001b[0m             \u001b[0mres\u001b[0m \u001b[0;34m=\u001b[0m \u001b[0mself\u001b[0m\u001b[0;34m.\u001b[0m\u001b[0m_box_item_values\u001b[0m\u001b[0;34m(\u001b[0m\u001b[0mitem\u001b[0m\u001b[0;34m,\u001b[0m \u001b[0mvalues\u001b[0m\u001b[0;34m)\u001b[0m\u001b[0;34m\u001b[0m\u001b[0m\n\u001b[1;32m   1844\u001b[0m             \u001b[0mcache\u001b[0m\u001b[0;34m[\u001b[0m\u001b[0mitem\u001b[0m\u001b[0;34m]\u001b[0m \u001b[0;34m=\u001b[0m \u001b[0mres\u001b[0m\u001b[0;34m\u001b[0m\u001b[0m\n",
      "\u001b[0;32m~/anaconda3/lib/python3.6/site-packages/pandas/core/internals.py\u001b[0m in \u001b[0;36mget\u001b[0;34m(self, item, fastpath)\u001b[0m\n\u001b[1;32m   3841\u001b[0m \u001b[0;34m\u001b[0m\u001b[0m\n\u001b[1;32m   3842\u001b[0m             \u001b[0;32mif\u001b[0m \u001b[0;32mnot\u001b[0m \u001b[0misna\u001b[0m\u001b[0;34m(\u001b[0m\u001b[0mitem\u001b[0m\u001b[0;34m)\u001b[0m\u001b[0;34m:\u001b[0m\u001b[0;34m\u001b[0m\u001b[0m\n\u001b[0;32m-> 3843\u001b[0;31m                 \u001b[0mloc\u001b[0m \u001b[0;34m=\u001b[0m \u001b[0mself\u001b[0m\u001b[0;34m.\u001b[0m\u001b[0mitems\u001b[0m\u001b[0;34m.\u001b[0m\u001b[0mget_loc\u001b[0m\u001b[0;34m(\u001b[0m\u001b[0mitem\u001b[0m\u001b[0;34m)\u001b[0m\u001b[0;34m\u001b[0m\u001b[0m\n\u001b[0m\u001b[1;32m   3844\u001b[0m             \u001b[0;32melse\u001b[0m\u001b[0;34m:\u001b[0m\u001b[0;34m\u001b[0m\u001b[0m\n\u001b[1;32m   3845\u001b[0m                 \u001b[0mindexer\u001b[0m \u001b[0;34m=\u001b[0m \u001b[0mnp\u001b[0m\u001b[0;34m.\u001b[0m\u001b[0marange\u001b[0m\u001b[0;34m(\u001b[0m\u001b[0mlen\u001b[0m\u001b[0;34m(\u001b[0m\u001b[0mself\u001b[0m\u001b[0;34m.\u001b[0m\u001b[0mitems\u001b[0m\u001b[0;34m)\u001b[0m\u001b[0;34m)\u001b[0m\u001b[0;34m[\u001b[0m\u001b[0misna\u001b[0m\u001b[0;34m(\u001b[0m\u001b[0mself\u001b[0m\u001b[0;34m.\u001b[0m\u001b[0mitems\u001b[0m\u001b[0;34m)\u001b[0m\u001b[0;34m]\u001b[0m\u001b[0;34m\u001b[0m\u001b[0m\n",
      "\u001b[0;32m~/anaconda3/lib/python3.6/site-packages/pandas/core/indexes/base.py\u001b[0m in \u001b[0;36mget_loc\u001b[0;34m(self, key, method, tolerance)\u001b[0m\n\u001b[1;32m   2525\u001b[0m                 \u001b[0;32mreturn\u001b[0m \u001b[0mself\u001b[0m\u001b[0;34m.\u001b[0m\u001b[0m_engine\u001b[0m\u001b[0;34m.\u001b[0m\u001b[0mget_loc\u001b[0m\u001b[0;34m(\u001b[0m\u001b[0mkey\u001b[0m\u001b[0;34m)\u001b[0m\u001b[0;34m\u001b[0m\u001b[0m\n\u001b[1;32m   2526\u001b[0m             \u001b[0;32mexcept\u001b[0m \u001b[0mKeyError\u001b[0m\u001b[0;34m:\u001b[0m\u001b[0;34m\u001b[0m\u001b[0m\n\u001b[0;32m-> 2527\u001b[0;31m                 \u001b[0;32mreturn\u001b[0m \u001b[0mself\u001b[0m\u001b[0;34m.\u001b[0m\u001b[0m_engine\u001b[0m\u001b[0;34m.\u001b[0m\u001b[0mget_loc\u001b[0m\u001b[0;34m(\u001b[0m\u001b[0mself\u001b[0m\u001b[0;34m.\u001b[0m\u001b[0m_maybe_cast_indexer\u001b[0m\u001b[0;34m(\u001b[0m\u001b[0mkey\u001b[0m\u001b[0;34m)\u001b[0m\u001b[0;34m)\u001b[0m\u001b[0;34m\u001b[0m\u001b[0m\n\u001b[0m\u001b[1;32m   2528\u001b[0m \u001b[0;34m\u001b[0m\u001b[0m\n\u001b[1;32m   2529\u001b[0m         \u001b[0mindexer\u001b[0m \u001b[0;34m=\u001b[0m \u001b[0mself\u001b[0m\u001b[0;34m.\u001b[0m\u001b[0mget_indexer\u001b[0m\u001b[0;34m(\u001b[0m\u001b[0;34m[\u001b[0m\u001b[0mkey\u001b[0m\u001b[0;34m]\u001b[0m\u001b[0;34m,\u001b[0m \u001b[0mmethod\u001b[0m\u001b[0;34m=\u001b[0m\u001b[0mmethod\u001b[0m\u001b[0;34m,\u001b[0m \u001b[0mtolerance\u001b[0m\u001b[0;34m=\u001b[0m\u001b[0mtolerance\u001b[0m\u001b[0;34m)\u001b[0m\u001b[0;34m\u001b[0m\u001b[0m\n",
      "\u001b[0;32mpandas/_libs/index.pyx\u001b[0m in \u001b[0;36mpandas._libs.index.IndexEngine.get_loc\u001b[0;34m()\u001b[0m\n",
      "\u001b[0;32mpandas/_libs/index.pyx\u001b[0m in \u001b[0;36mpandas._libs.index.IndexEngine.get_loc\u001b[0;34m()\u001b[0m\n",
      "\u001b[0;32mpandas/_libs/hashtable_class_helper.pxi\u001b[0m in \u001b[0;36mpandas._libs.hashtable.PyObjectHashTable.get_item\u001b[0;34m()\u001b[0m\n",
      "\u001b[0;32mpandas/_libs/hashtable_class_helper.pxi\u001b[0m in \u001b[0;36mpandas._libs.hashtable.PyObjectHashTable.get_item\u001b[0;34m()\u001b[0m\n",
      "\u001b[0;31mKeyError\u001b[0m: 'vol_daily_est'"
     ]
    }
   ],
   "source": [
    "# 2. least squares estimates weighted by ex-ante return variance (WLS-EV) using Johnson (2016)\n",
    "# ------------------------------------------------------------------------------------------------------------\n",
    "\n",
    "for i in (1,5,10):\n",
    "    # set forecast_horizon\n",
    "    forecast_horizon = i\n",
    "\n",
    "    # WLS-EV\n",
    "    wlsev_obj = Wlsev_model(wlsev_var_rets['logreturns'][:-1].as_matrix(), wlsev_var_rets['logreturns'][1:].as_matrix(), wlsev_var_rets['vol_daily_est'][:-1].as_matrix(), forecast_horizon)\n",
    "    wlsev_obj.fit()\n",
    "    # OOS evaluation to get Rsquared\n",
    "    wlsev_obj.evaluate()\n",
    "    wlsev_obj.print_results()\n",
    "    wlsev_obj.plot_results()\n",
    "    # get data\n",
    "    X, Y, y_wlsev = wlsev_obj.get_plot_data_wlsev()\n",
    "\n",
    "    # OLS\n",
    "    ols_obj = OLS_model(wlsev_var_rets['logreturns'][:-1].as_matrix(), wlsev_var_rets['logreturns'][1:].as_matrix(), forecast_horizon)\n",
    "    ols_obj.fit()\n",
    "    # OOS evaluation to get Rsquared\n",
    "    ols_obj.evaluate()\n",
    "    ols_obj.print_results()\n",
    "    ols_obj.plot_results()\n",
    "    # get data\n",
    "    X, Y, y_ols = ols_obj.get_plot_data_ols()\n",
    "\n",
    "\n",
    "    # Visualisation\n",
    "    # ------------------------------------------------------------------------------------------------------------\n",
    "\n",
    "    # time series plot\n",
    "    visualisation.plot_results(X,Y,y_wlsev, y_ols)\n",
    "    # scatter plot\n",
    "    visualisation.plot_scatter(X,Y,y_wlsev, y_ols)\n",
    "\n",
    "\n",
    "    # Get Simon's OLS estimation results\n",
    "    if forecast_horizon == 1:\n",
    "        ols_model = OLS(wlsev_var_rets['logreturns'][:-1].as_matrix(), wlsev_var_rets['logreturns'][1:].as_matrix())\n",
    "        ols_model.fit()\n",
    "        ols_model.printResults()"
   ]
  },
  {
   "cell_type": "markdown",
   "metadata": {},
   "source": [
    "### Regress returns on VRP"
   ]
  },
  {
   "cell_type": "markdown",
   "metadata": {},
   "source": [
    "##### Join vrp data with wls-ev log rets and ex ante variance"
   ]
  },
  {
   "cell_type": "code",
   "execution_count": null,
   "metadata": {},
   "outputs": [],
   "source": [
    "es_50_vrp_rets_var = wlsev_var_rets.join(es_50_vrp).dropna()"
   ]
  },
  {
   "cell_type": "markdown",
   "metadata": {},
   "source": [
    "##### forecast horizon months"
   ]
  },
  {
   "cell_type": "code",
   "execution_count": null,
   "metadata": {
    "scrolled": true
   },
   "outputs": [],
   "source": [
    "# set forecast_horizon\n",
    "for i in (1,22,44, 66, 88):\n",
    "    forecast_horizon = i\n",
    "\n",
    "    # WLS-EV\n",
    "    wlsev_obj = Wlsev_model(es_50_vrp_rets_var['vrp'][:-1].as_matrix(), es_50_vrp_rets_var['logreturns'][1:].as_matrix(), es_50_vrp_rets_var['vol_daily_est'][:-1].as_matrix(), forecast_horizon)\n",
    "    wlsev_obj.fit()\n",
    "    # OOS evaluation to get Rsquared\n",
    "    wlsev_obj.evaluate()\n",
    "    wlsev_obj.print_results()\n",
    "    wlsev_obj.plot_results()\n",
    "    # get data\n",
    "    X, Y, y_wlsev = wlsev_obj.get_plot_data_wlsev()\n",
    "\n",
    "    # OLS\n",
    "    ols_obj = OLS_model(es_50_vrp_rets_var['vrp'][:-1].as_matrix(), es_50_vrp_rets_var['logreturns'][1:].as_matrix(), forecast_horizon)\n",
    "    ols_obj.fit()\n",
    "    # OOS evaluation to get Rsquared\n",
    "    ols_obj.evaluate()\n",
    "    ols_obj.print_results()\n",
    "    # get data\n",
    "    X, Y, y_ols = ols_obj.get_plot_data_ols()\n",
    "\n",
    "\n",
    "    # Visualisation\n",
    "    # ------------------------------------------------------------------------------------------------------------\n",
    "\n",
    "    # time series plot\n",
    "    visualisation.plot_results(X,Y,y_wlsev, y_ols)\n",
    "    # scatter plot\n",
    "    visualisation.plot_scatter(X,Y,y_wlsev, y_ols)\n",
    "\n",
    "    # Get Simon's OLS estimation results\n",
    "    if forecast_horizon == 1:\n",
    "        ols_model = OLS(es_50_vrp_rets_var['vrp'][:-1].as_matrix(), es_50_vrp_rets_var['logreturns'][1:].as_matrix())\n",
    "        ols_model.fit()\n",
    "        ols_model.printResults()\n",
    "        ols_obj.plot_results()"
   ]
  },
  {
   "cell_type": "markdown",
   "metadata": {},
   "source": [
    "### Regress ERP on VRP"
   ]
  },
  {
   "cell_type": "code",
   "execution_count": null,
   "metadata": {},
   "outputs": [],
   "source": []
  },
  {
   "cell_type": "markdown",
   "metadata": {},
   "source": [
    "### Regress P-Moments on Q-Moments\n"
   ]
  },
  {
   "cell_type": "code",
   "execution_count": null,
   "metadata": {},
   "outputs": [],
   "source": []
  },
  {
   "cell_type": "markdown",
   "metadata": {},
   "source": [
    "### Regress Fama French Factors on Q-Moment"
   ]
  },
  {
   "cell_type": "code",
   "execution_count": null,
   "metadata": {},
   "outputs": [],
   "source": []
  },
  {
   "cell_type": "code",
   "execution_count": null,
   "metadata": {},
   "outputs": [],
   "source": []
  }
 ],
 "metadata": {
  "kernelspec": {
   "display_name": "Python 3",
   "language": "python",
   "name": "python3"
  },
  "language_info": {
   "codemirror_mode": {
    "name": "ipython",
    "version": 3
   },
   "file_extension": ".py",
   "mimetype": "text/x-python",
   "name": "python",
   "nbconvert_exporter": "python",
   "pygments_lexer": "ipython3",
   "version": "3.6.3"
  }
 },
 "nbformat": 4,
 "nbformat_minor": 2
}
