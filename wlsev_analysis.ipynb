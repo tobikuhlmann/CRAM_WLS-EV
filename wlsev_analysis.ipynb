{
 "cells": [
  {
   "cell_type": "markdown",
   "metadata": {},
   "source": [
    "# WLS-EV Analysis"
   ]
  },
  {
   "cell_type": "markdown",
   "metadata": {},
   "source": [
    "## Data Preprocessing"
   ]
  },
  {
   "cell_type": "markdown",
   "metadata": {},
   "source": [
    "### Read in log return data and variance"
   ]
  },
  {
   "cell_type": "code",
   "execution_count": 1,
   "metadata": {},
   "outputs": [
    {
     "name": "stderr",
     "output_type": "stream",
     "text": [
      "/Users/tobias/anaconda3/lib/python3.6/site-packages/statsmodels/compat/pandas.py:56: FutureWarning: The pandas.core.datetools module is deprecated and will be removed in a future version. Please use the pandas.tseries module instead.\n",
      "  from pandas.core import datetools\n"
     ]
    }
   ],
   "source": [
    "\"\"\"\n",
    "KIT CRAM Seminar WS17/18\n",
    "Algorithmic Design - Least squares estimates weighted by ex-ante return variance (WLS-EV)\n",
    "\"\"\"\n",
    "\n",
    "__author__ = 'Tobias Kuhlmann'\n",
    "\n",
    "# Import own libraries\n",
    "from variance_estimation import ExAnteVariance\n",
    "from wlsev_model import Wlsev_model\n",
    "from ols_model import OLS_model\n",
    "from simon_ols_model import OLS\n",
    "# import general packages\n",
    "import numpy as np\n",
    "import pandas as pd\n",
    "import matplotlib\n",
    "matplotlib.use\n",
    "import matplotlib.pyplot as plt\n",
    "matplotlib.style.use('ggplot')\n"
   ]
  },
  {
   "cell_type": "markdown",
   "metadata": {},
   "source": [
    "### Log return data"
   ]
  },
  {
   "cell_type": "code",
   "execution_count": 2,
   "metadata": {},
   "outputs": [],
   "source": [
    "# Import price data and calc log returns\n",
    "# --------------------------------------------------\n",
    "es_50_prices = pd.read_csv('data/es50_prices.csv', parse_dates=True)\n",
    "# Delete unnecessary columns\n",
    "del es_50_prices['openprice']\n",
    "del es_50_prices['highprice']\n",
    "del es_50_prices['lowprice']\n",
    "del es_50_prices['volume']\n",
    "del es_50_prices['instrumentid']\n",
    "# set index, rename and check\n",
    "es_50_prices = es_50_prices.rename(columns={'loctimestamp': 'date'})\n",
    "es_50_prices = es_50_prices.set_index('date')\n",
    "\n",
    "#Log Returns\n",
    "es_50_logret = es_50_prices\n",
    "es_50_logret['logreturns'] = np.log(es_50_prices['lastprice'] / es_50_prices['lastprice'].shift(1))"
   ]
  },
  {
   "cell_type": "markdown",
   "metadata": {},
   "source": [
    "### Volatility data"
   ]
  },
  {
   "cell_type": "code",
   "execution_count": 3,
   "metadata": {},
   "outputs": [],
   "source": [
    "# Import vol data\n",
    "# --------------------------------------------------\n",
    "es_50_vol = pd.read_csv('data/es50_volatility.csv', parse_dates=True)\n",
    "# Transform dates\n",
    "es_50_vol['loctimestamp'] = pd.to_datetime(es_50_vol['loctimestamp'])\n",
    "# Delete unnecessary columns\n",
    "del es_50_vol['instrumentid']\n",
    "# Calculate variance from vol\n",
    "es_50_vol['volatility'] = es_50_vol['volatility'] ** 2\n",
    "# set index, rename and check\n",
    "es_50_vol = es_50_vol.rename(columns={'loctimestamp': 'date'})\n",
    "es_50_vol = es_50_vol.set_index('date')"
   ]
  },
  {
   "cell_type": "markdown",
   "metadata": {},
   "source": [
    "### Implied vol data "
   ]
  },
  {
   "cell_type": "code",
   "execution_count": 4,
   "metadata": {},
   "outputs": [],
   "source": [
    "# Import implied volatility\n",
    "# --------------------------------------------------\n",
    "es_50_imp_vol = pd.read_csv('data/es50_implied_volatility.csv', parse_dates=True)\n",
    "# Transform dates\n",
    "es_50_imp_vol['loctimestamp'] = pd.to_datetime(es_50_imp_vol['loctimestamp'])\n",
    "# Delete unnecessary columns\n",
    "del es_50_imp_vol['instrumentid']\n",
    "del es_50_imp_vol['maturity']\n",
    "# Calculate implied variance from implied vol\n",
    "es_50_imp_vol['implied_vol'] = es_50_imp_vol['measure'] ** 2\n",
    "# set index, rename and check\n",
    "es_50_imp_vol = es_50_imp_vol.rename(columns={'loctimestamp': 'date'})\n",
    "es_50_imp_vol = es_50_imp_vol.set_index('date')"
   ]
  },
  {
   "cell_type": "markdown",
   "metadata": {},
   "source": [
    "### VRP data"
   ]
  },
  {
   "cell_type": "code",
   "execution_count": 5,
   "metadata": {},
   "outputs": [],
   "source": [
    "# Import VRP data\n",
    "# --------------------------------------------------\n",
    "es_50_vrp = pd.read_csv('data/es50_vrp.csv', parse_dates=True)\n",
    "# Transform dates\n",
    "es_50_vrp['loctimestamp'] = pd.to_datetime(es_50_vrp['loctimestamp'])\n",
    "# set index, rename and check\n",
    "es_50_vrp = es_50_vrp.rename(columns={'loctimestamp': 'date'})\n",
    "es_50_vrp = es_50_vrp.set_index('date')"
   ]
  },
  {
   "cell_type": "markdown",
   "metadata": {},
   "source": [
    "## Join data for correct dates"
   ]
  },
  {
   "cell_type": "code",
   "execution_count": 6,
   "metadata": {},
   "outputs": [],
   "source": [
    "# join vol and implied vol\n",
    "es_50_imp_vol = es_50_vol.join(es_50_imp_vol['implied_vol']).dropna()"
   ]
  },
  {
   "cell_type": "markdown",
   "metadata": {},
   "source": [
    "# Model and Analysis"
   ]
  },
  {
   "cell_type": "markdown",
   "metadata": {},
   "source": [
    "## Estimate Ex ante Variance"
   ]
  },
  {
   "cell_type": "code",
   "execution_count": 7,
   "metadata": {},
   "outputs": [
    {
     "name": "stdout",
     "output_type": "stream",
     "text": [
      "Variance Estimation Object initialized!\n",
      "Variance Estimation begins!\n",
      "22 rows with nan detected and deleted\n",
      "New dataframe shape (3794, 4)\n",
      "Variance Estimation Results\n",
      "                            OLS Regression Results                            \n",
      "==============================================================================\n",
      "Dep. Variable:          vol_daily_est   R-squared:                       0.481\n",
      "Model:                            OLS   Adj. R-squared:                  0.481\n",
      "Method:                 Least Squares   F-statistic:                     1172.\n",
      "Date:                Fri, 05 Jan 2018   Prob (F-statistic):               0.00\n",
      "Time:                        11:51:01   Log-Likelihood:                 4632.8\n",
      "No. Observations:                3794   AIC:                            -9258.\n",
      "Df Residuals:                    3790   BIC:                            -9233.\n",
      "Df Model:                           3                                         \n",
      "Covariance Type:            nonrobust                                         \n",
      "===============================================================================\n",
      "                  coef    std err          t      P>|t|      [0.025      0.975]\n",
      "-------------------------------------------------------------------------------\n",
      "Intercept       0.0065      0.001      4.431      0.000       0.004       0.009\n",
      "vol_daily       0.3003      0.020     15.390      0.000       0.262       0.339\n",
      "vol_weekly      0.3808      0.032     11.898      0.000       0.318       0.444\n",
      "vol_monthly     0.1988      0.029      6.858      0.000       0.142       0.256\n",
      "==============================================================================\n",
      "Omnibus:                     6060.640   Durbin-Watson:                   2.083\n",
      "Prob(Omnibus):                  0.000   Jarque-Bera (JB):          7576588.540\n",
      "Skew:                           9.940   Prob(JB):                         0.00\n",
      "Kurtosis:                     221.020   Cond. No.                         35.1\n",
      "==============================================================================\n",
      "\n",
      "Warnings:\n",
      "[1] Standard Errors assume that the covariance matrix of the errors is correctly specified.\n",
      "Variance estimated!\n"
     ]
    }
   ],
   "source": [
    "# Model and Analysis\n",
    "# ==================================================\n",
    "#\n",
    "# 1. Estimate (sigma_t)2, the (ex ante) conditional variance of next-period unexpected returns epsilon_(t+1)\n",
    "# using a HAR-RV (Hierachical Autoregressive-Realized Variance) Model from Corsi (2009)\n",
    "# ------------------------------------------------------------------------------------------------------------\n",
    "# First, instantiate object\n",
    "# no implied vol\n",
    "ea_var_obj = ExAnteVariance(es_50_vol)\n",
    "# implied vol exists\n",
    "# ea_var_obj = ExAnteVariance(es_50_imp_vol, es_50_imp_vol['implied_vol'])\n",
    "\n",
    "# Estimate Variance\n",
    "result = ea_var_obj.estimate_variance()\n",
    "result = result.dropna()\n",
    "\n",
    "# Join returns and estimated variance\n",
    "wlsev_var_rets = es_50_logret.join(result).dropna()\n"
   ]
  },
  {
   "cell_type": "markdown",
   "metadata": {},
   "source": [
    "## WLS-EV and benchmark estimations"
   ]
  },
  {
   "cell_type": "markdown",
   "metadata": {},
   "source": [
    "### Regress returns on returns"
   ]
  },
  {
   "cell_type": "markdown",
   "metadata": {},
   "source": [
    "##### Forecast horizon 1"
   ]
  },
  {
   "cell_type": "code",
   "execution_count": 8,
   "metadata": {},
   "outputs": [
    {
     "name": "stdout",
     "output_type": "stream",
     "text": [
      "WLS-EV Estimation Results\n",
      "Forecast Horizon: 1\n",
      "-------------------------------------------------------------------------------------------------------\n",
      "betas: [-0.0001 -0.0305]\n",
      "robust bse standard errors: [ 0.0002  0.0152]\n",
      "t-stats: [-0.7953 -2.0036]\n",
      "In sample R_squared: 0.0013\n",
      "Out of sample R_squared: 0.0028\n",
      "-------------------------------------------------------------------------------------------------------\n",
      "OLS Estimation Results\n",
      "Forecast Horizon: 1\n",
      "-------------------------------------------------------------------------------------------------------\n",
      "betas: [-0.0001 -0.037 ]\n",
      "robust bse standard errors: [ 0.0002  0.0202]\n",
      "t-stats: [-0.4508 -1.8281]\n",
      "In sample R_squared: 0.0014\n",
      "Out of sample R_squared: 0.0033\n",
      "-------------------------------------------------------------------------------------------------------\n",
      "Simon's OLS Evaluation\n",
      "-------------------------------------------------------------------------------------------------------\n",
      "OLS betas: [[-0.00010296]\n",
      " [-0.03697201]]\n",
      "OLS betas standard errors: [[ 0.00022546]\n",
      " [ 0.02003809]]\n",
      "In sample R_squared: 0.0014\n",
      "Out of sample R_squared: -0.0045\n",
      "-------------------------------------------------------------------------------------------------------\n"
     ]
    }
   ],
   "source": [
    "# 2. least squares estimates weighted by ex-ante return variance (WLS-EV) using Johnson (2016)\n",
    "# ------------------------------------------------------------------------------------------------------------\n",
    "\n",
    "# set forecast_horizon\n",
    "forecast_horizon = 1\n",
    "\n",
    "# WLS-EV\n",
    "wlsev_obj = Wlsev_model(wlsev_var_rets['logreturns'][:-1].as_matrix(), wlsev_var_rets['logreturns'][1:].as_matrix(), wlsev_var_rets['vol_daily_est'][:-1].as_matrix(), forecast_horizon)\n",
    "wlsev_obj.fit()\n",
    "# OOS evaluation to get Rsquared\n",
    "wlsev_obj.evaluate()\n",
    "wlsev_obj.print_results()\n",
    "\n",
    "# OLS\n",
    "ols_obj = OLS_model(wlsev_var_rets['logreturns'][:-1].as_matrix(), wlsev_var_rets['logreturns'][1:].as_matrix(), forecast_horizon)\n",
    "ols_obj.fit()\n",
    "# OOS evaluation to get Rsquared\n",
    "ols_obj.evaluate()\n",
    "ols_obj.print_results()\n",
    "\n",
    "# Get Simon's OLS estimation results\n",
    "if forecast_horizon == 1:\n",
    "    ols_model = OLS(wlsev_var_rets['logreturns'][:-1].as_matrix(), wlsev_var_rets['logreturns'][1:].as_matrix())\n",
    "    ols_model.fit()\n",
    "    ols_model.printResults()"
   ]
  },
  {
   "cell_type": "markdown",
   "metadata": {},
   "source": [
    "##### Forecast Horizon 5"
   ]
  },
  {
   "cell_type": "code",
   "execution_count": 9,
   "metadata": {},
   "outputs": [
    {
     "name": "stdout",
     "output_type": "stream",
     "text": [
      "WLS-EV Estimation Results\n",
      "Forecast Horizon: 5\n",
      "-------------------------------------------------------------------------------------------------------\n",
      "betas: [-0.0025 -0.1064]\n",
      "robust bse standard errors: [ 0.0046  0.0322]\n",
      "t-stats: [-0.5383 -3.3006]\n",
      "In sample R_squared: 0.0013\n",
      "Out of sample R_squared: -0.0328\n",
      "-------------------------------------------------------------------------------------------------------\n",
      "OLS Estimation Results\n",
      "Forecast Horizon: 5\n",
      "-------------------------------------------------------------------------------------------------------\n",
      "betas: [-0.0005 -0.1589]\n",
      "robust bse standard errors: [ 0.001   0.0428]\n",
      "t-stats: [-0.4858 -3.7155]\n",
      "In sample R_squared: 0.0059\n",
      "Out of sample R_squared: 0.0045\n",
      "-------------------------------------------------------------------------------------------------------\n"
     ]
    }
   ],
   "source": [
    "# 2. least squares estimates weighted by ex-ante return variance (WLS-EV) using Johnson (2016)\n",
    "# ------------------------------------------------------------------------------------------------------------\n",
    "\n",
    "# set forecast_horizon\n",
    "forecast_horizon = 5\n",
    "\n",
    "# WLS-EV\n",
    "wlsev_obj = Wlsev_model(wlsev_var_rets['logreturns'][:-1].as_matrix(), wlsev_var_rets['logreturns'][1:].as_matrix(), wlsev_var_rets['vol_daily_est'][:-1].as_matrix(), forecast_horizon)\n",
    "wlsev_obj.fit()\n",
    "# OOS evaluation to get Rsquared\n",
    "wlsev_obj.evaluate()\n",
    "wlsev_obj.print_results()\n",
    "\n",
    "# OLS\n",
    "ols_obj = OLS_model(wlsev_var_rets['logreturns'][:-1].as_matrix(), wlsev_var_rets['logreturns'][1:].as_matrix(), forecast_horizon)\n",
    "ols_obj.fit()\n",
    "# OOS evaluation to get Rsquared\n",
    "ols_obj.evaluate()\n",
    "ols_obj.print_results()"
   ]
  },
  {
   "cell_type": "markdown",
   "metadata": {},
   "source": [
    "##### Forecast Horizon 10"
   ]
  },
  {
   "cell_type": "code",
   "execution_count": 10,
   "metadata": {},
   "outputs": [
    {
     "name": "stdout",
     "output_type": "stream",
     "text": [
      "WLS-EV Estimation Results\n",
      "Forecast Horizon: 10\n",
      "-------------------------------------------------------------------------------------------------------\n",
      "betas: [-0.0051 -0.0871]\n",
      "robust bse standard errors: [ 0.0081  0.0435]\n",
      "t-stats: [-0.6236 -2.0045]\n",
      "In sample R_squared: -0.0065\n",
      "Out of sample R_squared: -0.0718\n",
      "-------------------------------------------------------------------------------------------------------\n",
      "OLS Estimation Results\n",
      "Forecast Horizon: 10\n",
      "-------------------------------------------------------------------------------------------------------\n",
      "betas: [-0.001  -0.1661]\n",
      "robust bse standard errors: [ 0.0016  0.057 ]\n",
      "t-stats: [-0.6252 -2.916 ]\n",
      "In sample R_squared: 0.0035\n",
      "Out of sample R_squared: -0.0001\n",
      "-------------------------------------------------------------------------------------------------------\n"
     ]
    }
   ],
   "source": [
    "# 2. least squares estimates weighted by ex-ante return variance (WLS-EV) using Johnson (2016)\n",
    "# ------------------------------------------------------------------------------------------------------------\n",
    "\n",
    "# set forecast_horizon\n",
    "forecast_horizon = 10\n",
    "\n",
    "# WLS-EV\n",
    "wlsev_obj = Wlsev_model(wlsev_var_rets['logreturns'][:-1].as_matrix(), wlsev_var_rets['logreturns'][1:].as_matrix(), wlsev_var_rets['vol_daily_est'][:-1].as_matrix(), forecast_horizon)\n",
    "wlsev_obj.fit()\n",
    "# OOS evaluation to get Rsquared\n",
    "wlsev_obj.evaluate()\n",
    "wlsev_obj.print_results()\n",
    "\n",
    "# OLS\n",
    "ols_obj = OLS_model(wlsev_var_rets['logreturns'][:-1].as_matrix(), wlsev_var_rets['logreturns'][1:].as_matrix(), forecast_horizon)\n",
    "ols_obj.fit()\n",
    "# OOS evaluation to get Rsquared\n",
    "ols_obj.evaluate()\n",
    "ols_obj.print_results()"
   ]
  },
  {
   "cell_type": "markdown",
   "metadata": {},
   "source": [
    "### Regress returns on VRP"
   ]
  },
  {
   "cell_type": "markdown",
   "metadata": {},
   "source": [
    "##### Join vrp data with wls-ev log rets and ex ante variance"
   ]
  },
  {
   "cell_type": "code",
   "execution_count": 11,
   "metadata": {},
   "outputs": [],
   "source": [
    "es_50_vrp_rets_var = wlsev_var_rets.join(es_50_vrp).dropna()"
   ]
  },
  {
   "cell_type": "markdown",
   "metadata": {},
   "source": [
    "##### forecast horizon 1"
   ]
  },
  {
   "cell_type": "code",
   "execution_count": 12,
   "metadata": {},
   "outputs": [
    {
     "name": "stdout",
     "output_type": "stream",
     "text": [
      "WLS-EV Estimation Results\n",
      "Forecast Horizon: 1\n",
      "-------------------------------------------------------------------------------------------------------\n",
      "betas: [-0.0109  0.24  ]\n",
      "robust bse standard errors: [ 0.0008  0.0532]\n",
      "t-stats: [-12.9158   4.5107]\n",
      "In sample R_squared: -0.0517\n",
      "Out of sample R_squared: -0.0706\n",
      "-------------------------------------------------------------------------------------------------------\n",
      "OLS Estimation Results\n",
      "Forecast Horizon: 1\n",
      "-------------------------------------------------------------------------------------------------------\n",
      "betas: [-0.0205  0.4095]\n",
      "robust bse standard errors: [ 0.0016  0.1142]\n",
      "t-stats: [-13.1779   3.5872]\n",
      "In sample R_squared: 0.0286\n",
      "Out of sample R_squared: -0.0162\n",
      "-------------------------------------------------------------------------------------------------------\n",
      "Simon's OLS Evaluation\n",
      "-------------------------------------------------------------------------------------------------------\n",
      "OLS betas: [[-0.02049253]\n",
      " [ 0.40951702]]\n",
      "OLS betas standard errors: [[ 0.00170784]\n",
      " [ 0.11998308]]\n",
      "In sample R_squared: 0.0286\n",
      "Out of sample R_squared: -0.1326\n",
      "-------------------------------------------------------------------------------------------------------\n"
     ]
    }
   ],
   "source": [
    "# set forecast_horizon\n",
    "forecast_horizon = 1\n",
    "\n",
    "# WLS-EV\n",
    "wlsev_obj = Wlsev_model(es_50_vrp_rets_var['logreturns'][:-1].as_matrix(), es_50_vrp_rets_var['vrp'][1:].as_matrix(), es_50_vrp_rets_var['vol_daily_est'][:-1].as_matrix(), forecast_horizon)\n",
    "wlsev_obj.fit()\n",
    "# OOS evaluation to get Rsquared\n",
    "wlsev_obj.evaluate()\n",
    "wlsev_obj.print_results()\n",
    "\n",
    "# OLS\n",
    "ols_obj = OLS_model(es_50_vrp_rets_var['logreturns'][:-1].as_matrix(), es_50_vrp_rets_var['vrp'][1:].as_matrix(), forecast_horizon)\n",
    "ols_obj.fit()\n",
    "# OOS evaluation to get Rsquared\n",
    "ols_obj.evaluate()\n",
    "ols_obj.print_results()\n",
    "\n",
    "# Get Simon's OLS estimation results\n",
    "if forecast_horizon == 1:\n",
    "    ols_model = OLS(es_50_vrp_rets_var['logreturns'][:-1].as_matrix(), es_50_vrp_rets_var['vrp'][1:].as_matrix())\n",
    "    ols_model.fit()\n",
    "    ols_model.printResults()"
   ]
  },
  {
   "cell_type": "markdown",
   "metadata": {},
   "source": [
    "##### forecast horizon 5"
   ]
  },
  {
   "cell_type": "code",
   "execution_count": 13,
   "metadata": {},
   "outputs": [
    {
     "name": "stdout",
     "output_type": "stream",
     "text": [
      "WLS-EV Estimation Results\n",
      "Forecast Horizon: 5\n",
      "-------------------------------------------------------------------------------------------------------\n",
      "betas: [-0.3773  0.532 ]\n",
      "robust bse standard errors: [ 0.0226  0.1551]\n",
      "t-stats: [-16.6759   3.429 ]\n",
      "In sample R_squared: -3.2166\n",
      "Out of sample R_squared: -6.5768\n",
      "-------------------------------------------------------------------------------------------------------\n",
      "OLS Estimation Results\n",
      "Forecast Horizon: 5\n",
      "-------------------------------------------------------------------------------------------------------\n",
      "betas: [-0.1025  0.8479]\n",
      "robust bse standard errors: [ 0.0077  0.3619]\n",
      "t-stats: [-13.3091   2.3425]\n",
      "In sample R_squared: 0.0063\n",
      "Out of sample R_squared: -0.0054\n",
      "-------------------------------------------------------------------------------------------------------\n"
     ]
    }
   ],
   "source": [
    "# set forecast_horizon\n",
    "forecast_horizon = 5\n",
    "\n",
    "# WLS-EV\n",
    "wlsev_obj = Wlsev_model(es_50_vrp_rets_var['logreturns'][:-1].as_matrix(), es_50_vrp_rets_var['vrp'][1:].as_matrix(), es_50_vrp_rets_var['vol_daily_est'][:-1].as_matrix(), forecast_horizon)\n",
    "wlsev_obj.fit()\n",
    "# OOS evaluation to get Rsquared\n",
    "wlsev_obj.evaluate()\n",
    "wlsev_obj.print_results()\n",
    "\n",
    "# OLS\n",
    "ols_obj = OLS_model(es_50_vrp_rets_var['logreturns'][:-1].as_matrix(), es_50_vrp_rets_var['vrp'][1:].as_matrix(), forecast_horizon)\n",
    "ols_obj.fit()\n",
    "# OOS evaluation to get Rsquared\n",
    "ols_obj.evaluate()\n",
    "ols_obj.print_results()"
   ]
  },
  {
   "cell_type": "markdown",
   "metadata": {},
   "source": [
    "##### forecast horizon 10"
   ]
  },
  {
   "cell_type": "code",
   "execution_count": 14,
   "metadata": {},
   "outputs": [
    {
     "name": "stdout",
     "output_type": "stream",
     "text": [
      "WLS-EV Estimation Results\n",
      "Forecast Horizon: 10\n",
      "-------------------------------------------------------------------------------------------------------\n",
      "betas: [-0.7025  0.6062]\n",
      "robust bse standard errors: [ 0.042   0.2139]\n",
      "t-stats: [-16.7367   2.8335]\n",
      "In sample R_squared: -3.0123\n",
      "Out of sample R_squared: -6.1101\n",
      "-------------------------------------------------------------------------------------------------------\n",
      "OLS Estimation Results\n",
      "Forecast Horizon: 10\n",
      "-------------------------------------------------------------------------------------------------------\n",
      "betas: [-0.2054  1.0654]\n",
      "robust bse standard errors: [ 0.0149  0.6866]\n",
      "t-stats: [-13.769    1.5518]\n",
      "In sample R_squared: 0.0029\n",
      "Out of sample R_squared: -0.0024\n",
      "-------------------------------------------------------------------------------------------------------\n"
     ]
    }
   ],
   "source": [
    "# set forecast_horizon\n",
    "forecast_horizon = 10\n",
    "\n",
    "# WLS-EV\n",
    "wlsev_obj = Wlsev_model(es_50_vrp_rets_var['logreturns'][:-1].as_matrix(), es_50_vrp_rets_var['vrp'][1:].as_matrix(), es_50_vrp_rets_var['vol_daily_est'][:-1].as_matrix(), forecast_horizon)\n",
    "wlsev_obj.fit()\n",
    "# OOS evaluation to get Rsquared\n",
    "wlsev_obj.evaluate()\n",
    "wlsev_obj.print_results()\n",
    "\n",
    "# OLS\n",
    "ols_obj = OLS_model(es_50_vrp_rets_var['logreturns'][:-1].as_matrix(), es_50_vrp_rets_var['vrp'][1:].as_matrix(), forecast_horizon)\n",
    "ols_obj.fit()\n",
    "# OOS evaluation to get Rsquared\n",
    "ols_obj.evaluate()\n",
    "ols_obj.print_results()"
   ]
  },
  {
   "cell_type": "code",
   "execution_count": null,
   "metadata": {},
   "outputs": [],
   "source": []
  },
  {
   "cell_type": "code",
   "execution_count": null,
   "metadata": {},
   "outputs": [],
   "source": []
  }
 ],
 "metadata": {
  "kernelspec": {
   "display_name": "Python 3",
   "language": "python",
   "name": "python3"
  },
  "language_info": {
   "codemirror_mode": {
    "name": "ipython",
    "version": 3
   },
   "file_extension": ".py",
   "mimetype": "text/x-python",
   "name": "python",
   "nbconvert_exporter": "python",
   "pygments_lexer": "ipython3",
   "version": "3.6.3"
  }
 },
 "nbformat": 4,
 "nbformat_minor": 2
}
